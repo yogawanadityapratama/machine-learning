{
 "cells": [
  {
   "cell_type": "code",
   "execution_count": 2,
   "metadata": {},
   "outputs": [
    {
     "name": "stdout",
     "output_type": "stream",
     "text": [
      "Akurasi: 0.75\n"
     ]
    }
   ],
   "source": [
    "import pandas as pd\n",
    "from sklearn.model_selection import train_test_split\n",
    "from sklearn.naive_bayes import CategoricalNB\n",
    "from sklearn.metrics import accuracy_score\n",
    "\n",
    "# Memuat dataset\n",
    "data = pd.read_csv('dataset.csv')\n",
    "\n",
    "# Pemrosesan Data\n",
    "# Ubah data kategorikal menjadi numerik\n",
    "data['Usia'] = data['Usia'].map({'Muda': 0, 'Tua': 1})\n",
    "data['Penghasilan'] = data['Penghasilan'].map({'Rendah': 0, 'Tinggi': 1})\n",
    "data['Status Rumah'] = data['Status Rumah'].map({'Sewa': 0, 'Milik': 1})\n",
    "data['Beli Produk'] = data['Beli Produk'].map({'Tidak': 0, 'Ya': 1})\n",
    "\n",
    "# Pisahkan fitur dan target\n",
    "X = data.drop('Beli Produk', axis=1)\n",
    "y = data['Beli Produk']\n",
    "\n",
    "# Pembagian Data\n",
    "X_train, X_test, y_train, y_test = train_test_split(X, y, test_size=0.2, random_state=42)\n",
    "\n",
    "# Membuat dan Melatih Model Naive Bayes\n",
    "model = CategoricalNB()\n",
    "model.fit(X_train, y_train)\n",
    "\n",
    "# Prediksi\n",
    "y_pred = model.predict(X_test)\n",
    "\n",
    "# Evaluasi Model\n",
    "accuracy = accuracy_score(y_test, y_pred)\n",
    "print(\"Akurasi:\", accuracy)"
   ]
  }
 ],
 "metadata": {
  "kernelspec": {
   "display_name": "Python 3",
   "language": "python",
   "name": "python3"
  },
  "language_info": {
   "codemirror_mode": {
    "name": "ipython",
    "version": 3
   },
   "file_extension": ".py",
   "mimetype": "text/x-python",
   "name": "python",
   "nbconvert_exporter": "python",
   "pygments_lexer": "ipython3",
   "version": "3.9.5"
  }
 },
 "nbformat": 4,
 "nbformat_minor": 2
}
