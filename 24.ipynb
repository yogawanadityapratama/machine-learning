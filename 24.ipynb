{
 "cells": [
  {
   "cell_type": "code",
   "execution_count": 4,
   "metadata": {},
   "outputs": [
    {
     "name": "stdout",
     "output_type": "stream",
     "text": [
      "True label: [1, 0]\n",
      "Predicted:  [1 1]\n"
     ]
    }
   ],
   "source": [
    "# Import necessary libraries\n",
    "from sklearn import preprocessing\n",
    "from sklearn.naive_bayes import GaussianNB\n",
    "\n",
    "# Define the weather, temperature, and attendance datasets\n",
    "cuaca = ['panas', 'panas', 'mendung', 'hujan', 'hujan', 'hujan', 'mendung', 'panas', 'panas',\n",
    "        'hujan', 'panas', 'mendung', 'mendung', 'hujan']\n",
    "kategori_suhu = ['Hot', 'Hot', 'Hot', 'Mild', 'Cool', 'Cool', 'Cool',\n",
    "                 'Mild', 'Cool', 'Mild', 'Mild', 'Mild', 'Hot', 'Mild']\n",
    "kuliah = ['Tidak', 'Tidak', 'Ya', 'Ya', 'Ya', 'Tidak', 'Ya', 'Tidak',\n",
    "          'Ya', 'Ya', 'Ya', 'Ya', 'Ya', 'Tidak']\n",
    "\n",
    "# Initialize a LabelEncoder object\n",
    "le = preprocessing.LabelEncoder()\n",
    "\n",
    "# Encode the weather dataset as integers\n",
    "cuaca_encoded = le.fit_transform(cuaca)\n",
    "\n",
    "# Encode the temperature dataset as integers\n",
    "suhu_encoded = le.fit_transform(kategori_suhu)\n",
    "\n",
    "# Encode the attendance dataset as integers\n",
    "label = le.fit_transform(kuliah)\n",
    "\n",
    "# Combine the encoded weather and temperature datasets into a list of tuples\n",
    "fitur = list(zip(cuaca_encoded, suhu_encoded))\n",
    "\n",
    "# Initialize a Gaussian Naive Bayes classifier\n",
    "model = GaussianNB()\n",
    "\n",
    "# Train the classifier using the combined dataset and attendance labels\n",
    "model.fit(fitur, label)\n",
    "\n",
    "# Predict the attendance labels for the following weather and temperature conditions\n",
    "predicted = model.predict([[0, 2], [2, 0]])\n",
    "\n",
    "# Define the true attendance labels for the given weather and temperature conditions\n",
    "truelabel = [1, 0]\n",
    "\n",
    "# Print the true attendance labels\n",
    "print(\"True label:\", truelabel)\n",
    "print(\"Predicted: \", predicted)"
   ]
  },
  {
   "cell_type": "code",
   "execution_count": null,
   "metadata": {},
   "outputs": [],
   "source": [
    "# 1. Data Encoding: Data cuaca, suhu, dan kehadiran diencode menggunakan LabelEncoder untuk mengubah data kategori menjadi data numerik yang dapat diproses oleh model. Ini diperlukan karena model-machine learning memerlukan data dalam bentuk numerik.\n",
    "\n",
    "# 2. Pemodelan: Model Gaussian Naive Bayes digunakan untuk memodelkan hubungan antara cuaca, suhu, dan kehadiran. Naive Bayes adalah metode klasifikasi probabilitas yang mengasumsikan bahwa nilai-nilai fitur adalah independen satu sama lain. Dalam hal ini, kita menggunakan model Gaussian Naive Bayes yang sesuai untuk fitur kontinu yang memiliki distribusi Gaussian.\n",
    "\n",
    "# 3. Prediksi: Model tersebut digunakan untuk memprediksi kehadiran berdasarkan data cuaca dan suhu yang baru diberikan. Dalam kode ini, kami memprediksi kehadiran untuk dua skenario cuaca dan suhu yang berbeda.\n",
    "\n",
    "# 4. Evaluasi: Kami membandingkan prediksi model dengan label kehadiran yang sebenarnya untuk mengevaluasi kinerja model. Dalam kasus ini, prediksi model dibandingkan dengan label kehadiran yang diberikan secara manual."
   ]
  }
 ],
 "metadata": {
  "kernelspec": {
   "display_name": "Python 3",
   "language": "python",
   "name": "python3"
  },
  "language_info": {
   "codemirror_mode": {
    "name": "ipython",
    "version": 3
   },
   "file_extension": ".py",
   "mimetype": "text/x-python",
   "name": "python",
   "nbconvert_exporter": "python",
   "pygments_lexer": "ipython3",
   "version": "3.9.5"
  }
 },
 "nbformat": 4,
 "nbformat_minor": 2
}
